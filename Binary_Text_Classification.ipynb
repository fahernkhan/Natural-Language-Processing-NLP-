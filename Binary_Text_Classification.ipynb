{
  "nbformat": 4,
  "nbformat_minor": 0,
  "metadata": {
    "colab": {
      "provenance": [],
      "authorship_tag": "ABX9TyPCjlHttEjjdLa71LDyTvSW",
      "include_colab_link": true
    },
    "kernelspec": {
      "name": "python3",
      "display_name": "Python 3"
    },
    "language_info": {
      "name": "python"
    }
  },
  "cells": [
    {
      "cell_type": "markdown",
      "metadata": {
        "id": "view-in-github",
        "colab_type": "text"
      },
      "source": [
        "<a href=\"https://colab.research.google.com/github/fahernkhan/Natural-Language-Processing-NLP-/blob/main/Binary_Text_Classification.ipynb\" target=\"_parent\"><img src=\"https://colab.research.google.com/assets/colab-badge.svg\" alt=\"Open In Colab\"/></a>"
      ]
    },
    {
      "cell_type": "markdown",
      "source": [
        "mengunduh dataset menggunakan dataset Yelp yang berisi review dari beberapa restoran di Amerika Serikat : https://www.kaggle.com/datasets/marklvl/sentiment-labelled-sentences-data-set"
      ],
      "metadata": {
        "id": "pQsTXsUd3EP0"
      }
    },
    {
      "cell_type": "code",
      "source": [
        "from google.colab import files\n",
        "files.upload()"
      ],
      "metadata": {
        "colab": {
          "base_uri": "https://localhost:8080/",
          "height": 1000
        },
        "id": "NmykQKN132oc",
        "outputId": "378415ab-c23e-4f08-cf4d-98dd11c4128a"
      },
      "execution_count": null,
      "outputs": [
        {
          "output_type": "display_data",
          "data": {
            "text/plain": [
              "<IPython.core.display.HTML object>"
            ],
            "text/html": [
              "\n",
              "     <input type=\"file\" id=\"files-a05cadff-3c6e-4b1c-90d2-e864771e1e41\" name=\"files[]\" multiple disabled\n",
              "        style=\"border:none\" />\n",
              "     <output id=\"result-a05cadff-3c6e-4b1c-90d2-e864771e1e41\">\n",
              "      Upload widget is only available when the cell has been executed in the\n",
              "      current browser session. Please rerun this cell to enable.\n",
              "      </output>\n",
              "      <script>// Copyright 2017 Google LLC\n",
              "//\n",
              "// Licensed under the Apache License, Version 2.0 (the \"License\");\n",
              "// you may not use this file except in compliance with the License.\n",
              "// You may obtain a copy of the License at\n",
              "//\n",
              "//      http://www.apache.org/licenses/LICENSE-2.0\n",
              "//\n",
              "// Unless required by applicable law or agreed to in writing, software\n",
              "// distributed under the License is distributed on an \"AS IS\" BASIS,\n",
              "// WITHOUT WARRANTIES OR CONDITIONS OF ANY KIND, either express or implied.\n",
              "// See the License for the specific language governing permissions and\n",
              "// limitations under the License.\n",
              "\n",
              "/**\n",
              " * @fileoverview Helpers for google.colab Python module.\n",
              " */\n",
              "(function(scope) {\n",
              "function span(text, styleAttributes = {}) {\n",
              "  const element = document.createElement('span');\n",
              "  element.textContent = text;\n",
              "  for (const key of Object.keys(styleAttributes)) {\n",
              "    element.style[key] = styleAttributes[key];\n",
              "  }\n",
              "  return element;\n",
              "}\n",
              "\n",
              "// Max number of bytes which will be uploaded at a time.\n",
              "const MAX_PAYLOAD_SIZE = 100 * 1024;\n",
              "\n",
              "function _uploadFiles(inputId, outputId) {\n",
              "  const steps = uploadFilesStep(inputId, outputId);\n",
              "  const outputElement = document.getElementById(outputId);\n",
              "  // Cache steps on the outputElement to make it available for the next call\n",
              "  // to uploadFilesContinue from Python.\n",
              "  outputElement.steps = steps;\n",
              "\n",
              "  return _uploadFilesContinue(outputId);\n",
              "}\n",
              "\n",
              "// This is roughly an async generator (not supported in the browser yet),\n",
              "// where there are multiple asynchronous steps and the Python side is going\n",
              "// to poll for completion of each step.\n",
              "// This uses a Promise to block the python side on completion of each step,\n",
              "// then passes the result of the previous step as the input to the next step.\n",
              "function _uploadFilesContinue(outputId) {\n",
              "  const outputElement = document.getElementById(outputId);\n",
              "  const steps = outputElement.steps;\n",
              "\n",
              "  const next = steps.next(outputElement.lastPromiseValue);\n",
              "  return Promise.resolve(next.value.promise).then((value) => {\n",
              "    // Cache the last promise value to make it available to the next\n",
              "    // step of the generator.\n",
              "    outputElement.lastPromiseValue = value;\n",
              "    return next.value.response;\n",
              "  });\n",
              "}\n",
              "\n",
              "/**\n",
              " * Generator function which is called between each async step of the upload\n",
              " * process.\n",
              " * @param {string} inputId Element ID of the input file picker element.\n",
              " * @param {string} outputId Element ID of the output display.\n",
              " * @return {!Iterable<!Object>} Iterable of next steps.\n",
              " */\n",
              "function* uploadFilesStep(inputId, outputId) {\n",
              "  const inputElement = document.getElementById(inputId);\n",
              "  inputElement.disabled = false;\n",
              "\n",
              "  const outputElement = document.getElementById(outputId);\n",
              "  outputElement.innerHTML = '';\n",
              "\n",
              "  const pickedPromise = new Promise((resolve) => {\n",
              "    inputElement.addEventListener('change', (e) => {\n",
              "      resolve(e.target.files);\n",
              "    });\n",
              "  });\n",
              "\n",
              "  const cancel = document.createElement('button');\n",
              "  inputElement.parentElement.appendChild(cancel);\n",
              "  cancel.textContent = 'Cancel upload';\n",
              "  const cancelPromise = new Promise((resolve) => {\n",
              "    cancel.onclick = () => {\n",
              "      resolve(null);\n",
              "    };\n",
              "  });\n",
              "\n",
              "  // Wait for the user to pick the files.\n",
              "  const files = yield {\n",
              "    promise: Promise.race([pickedPromise, cancelPromise]),\n",
              "    response: {\n",
              "      action: 'starting',\n",
              "    }\n",
              "  };\n",
              "\n",
              "  cancel.remove();\n",
              "\n",
              "  // Disable the input element since further picks are not allowed.\n",
              "  inputElement.disabled = true;\n",
              "\n",
              "  if (!files) {\n",
              "    return {\n",
              "      response: {\n",
              "        action: 'complete',\n",
              "      }\n",
              "    };\n",
              "  }\n",
              "\n",
              "  for (const file of files) {\n",
              "    const li = document.createElement('li');\n",
              "    li.append(span(file.name, {fontWeight: 'bold'}));\n",
              "    li.append(span(\n",
              "        `(${file.type || 'n/a'}) - ${file.size} bytes, ` +\n",
              "        `last modified: ${\n",
              "            file.lastModifiedDate ? file.lastModifiedDate.toLocaleDateString() :\n",
              "                                    'n/a'} - `));\n",
              "    const percent = span('0% done');\n",
              "    li.appendChild(percent);\n",
              "\n",
              "    outputElement.appendChild(li);\n",
              "\n",
              "    const fileDataPromise = new Promise((resolve) => {\n",
              "      const reader = new FileReader();\n",
              "      reader.onload = (e) => {\n",
              "        resolve(e.target.result);\n",
              "      };\n",
              "      reader.readAsArrayBuffer(file);\n",
              "    });\n",
              "    // Wait for the data to be ready.\n",
              "    let fileData = yield {\n",
              "      promise: fileDataPromise,\n",
              "      response: {\n",
              "        action: 'continue',\n",
              "      }\n",
              "    };\n",
              "\n",
              "    // Use a chunked sending to avoid message size limits. See b/62115660.\n",
              "    let position = 0;\n",
              "    do {\n",
              "      const length = Math.min(fileData.byteLength - position, MAX_PAYLOAD_SIZE);\n",
              "      const chunk = new Uint8Array(fileData, position, length);\n",
              "      position += length;\n",
              "\n",
              "      const base64 = btoa(String.fromCharCode.apply(null, chunk));\n",
              "      yield {\n",
              "        response: {\n",
              "          action: 'append',\n",
              "          file: file.name,\n",
              "          data: base64,\n",
              "        },\n",
              "      };\n",
              "\n",
              "      let percentDone = fileData.byteLength === 0 ?\n",
              "          100 :\n",
              "          Math.round((position / fileData.byteLength) * 100);\n",
              "      percent.textContent = `${percentDone}% done`;\n",
              "\n",
              "    } while (position < fileData.byteLength);\n",
              "  }\n",
              "\n",
              "  // All done.\n",
              "  yield {\n",
              "    response: {\n",
              "      action: 'complete',\n",
              "    }\n",
              "  };\n",
              "}\n",
              "\n",
              "scope.google = scope.google || {};\n",
              "scope.google.colab = scope.google.colab || {};\n",
              "scope.google.colab._files = {\n",
              "  _uploadFiles,\n",
              "  _uploadFilesContinue,\n",
              "};\n",
              "})(self);\n",
              "</script> "
            ]
          },
          "metadata": {}
        },
        {
          "output_type": "stream",
          "name": "stdout",
          "text": [
            "Saving yelp_labelled.csv to yelp_labelled.csv\n"
          ]
        },
        {
          "output_type": "execute_result",
          "data": {
            "text/plain": [
              "{'yelp_labelled.csv': b'Wow... Loved this place.,1,,,,\\nCrust is not good.,0,,,,\\nNot tasty and the texture was just nasty.,0,,,,\\nStopped by during the late May bank holiday off Rick Steve recommendation and loved it.,1,,,,\\nThe selection on the menu was great and so were the prices.,1,,,,\\nNow I am getting angry and I want my damn pho.,0,,,,\\nHoneslty it didn\\'t taste THAT fresh.),0,,,,\\nThe potatoes were like rubber and you could tell they had been made up ahead of time being kept under a warmer.,0,,,,\\nThe fries were great too.,1,,,,\\nA great touch.,1,,,,\\nService was very prompt.,1,,,,\\nWould not go back.,0,,,,\\nThe cashier had no care what so ever on what I had to say it still ended up being wayyy overpriced.,0,,,,\\nI tried the Cape Cod ravoli, chicken,with cranberry...mmmm!,1,,\\nI was disgusted because I was pretty sure that was human hair.,0,,,,\\nI was shocked because no signs indicate cash only.,0,,,,\\nHighly recommended.,1,,,,\\nWaitress was a little slow in service.,0,,,,\\nThis place is not worth your time, let alone Vegas.,0,,,\\ndid not like at all.,0,,,,\\nThe Burrittos Blah!,0,,,,\\nThe food, amazing.,1,,,\\nService is also cute.,1,,,,\\nI could care less... The interior is just beautiful.,1,,,,\\nSo they performed.,1,,,,\\nThat\\'s right....the red velvet cake.....ohhh this stuff is so good.,1,,,,\\n- They never brought a salad we asked for.,0,,,,\\nThis hole in the wall has great Mexican street tacos, and friendly staff.,1,,,\\nTook an hour to get our food only 4 tables in restaurant my food was Luke warm, Our sever was running around like he was totally overwhelmed.,0,,,\\nThe worst was the salmon sashimi.,0,,,,\\nAlso there are combos like a burger, fries, and beer for 23 which is a decent deal.,1,,\\nThis was like the final blow!,0,,,,\\nI found this place by accident and I could not be happier.,1,,,,\\nseems like a good quick place to grab a bite of some familiar pub food, but do yourself a favor and look elsewhere.,0,,,\\nOverall, I like this place a lot.,1,,,\\nThe only redeeming quality of the restaurant was that it was very inexpensive.,1,,,,\\nAmple portions and good prices.,1,,,,\\nPoor service, the waiter made me feel like I was stupid every time he came to the table.,0,,,\\nMy first visit to Hiro was a delight!,1,,,,\\nService sucks.,0,,,,\\nThe shrimp tender and moist.,1,,,,\\nThere is not a deal good enough that would drag me into that establishment again.,0,,,,\\nHard to judge whether these sides were good because we were grossed out by the melted styrofoam and didn\\'t want to eat it for fear of getting sick.,0,,,,\\nOn a positive note, our server was very attentive and provided great service.,1,,,\\nFrozen pucks of disgust, with some of the worst people behind the register.,0,,,\\nThe only thing I did like was the prime rib and dessert section.,1,,,,\\nIt\\'s too bad the food is so damn generic.,0,,,,\\nThe burger is good beef, cooked just right.,1,,,\\nIf you want a sandwich just go to any Firehouse!!!!!,1,,,,\\nMy side Greek salad with the Greek dressing was so tasty, and the pita and hummus was very refreshing.,1,,,\\nWe ordered the duck rare and it was pink and tender on the inside with a nice char on the outside.,1,,,,\\nHe came running after us when he realized my husband had left his sunglasses on the table.,1,,,,\\nTheir chow mein is so good!,1,,,,\\nThey have horrible attitudes towards customers, and talk down to each one when customers don\\'t enjoy their food.,0,,,\\nThe portion was huge!,1,,,,\\nLoved it...friendly servers, great food, wonderful and imaginative menu.,1,,\\nThe Heart Attack Grill in downtown Vegas is an absolutely flat-lined excuse for a restaurant.,0,,,,\\nNot much seafood and like 5 strings of pasta at the bottom.,0,,,,\\nThe salad had just the right amount of sauce to not over power the scallop, which was perfectly cooked.,1,,,\\nThe ripped banana was not only ripped, but petrified and tasteless.,0,,,\\nAt least think to refill my water before I struggle to wave you over for 10 minutes.,0,,,,\\nThis place receives stars for their APPETIZERS!!!,1,,,,\\nThe cocktails are all handmade and delicious.,1,,,,\\nWe\\'d definitely go back here again.,1,,,,\\nWe are so glad we found this place.,1,,,,\\nGreat food and service, huge portions and they give a military discount.,1,,,\\nAlways a great time at Dos Gringos!,1,,,,\\nUpdate.....went back for a second time and it was still just as amazing,1,,,,\\nWe got the food and apparently they have never heard of salt and the batter on the fish was chewy.,0,,,,\\nA great way to finish a great.,1,,,,\\nThe deal included 5 tastings and 2 drinks, and Jeff went above and beyond what we expected.,1,,,\\n- Really, really good rice, all the time.,1,,\\nThe service was meh.,0,,,,\\nIt took over 30 min to get their milkshake, which was nothing more than chocolate milk.,0,,,\\nI guess I should have known that this place would suck, because it is inside of the Excalibur, but I didn\\'t use my common sense.,0,,\\nThe scallop dish is quite appalling for value as well.,0,,,,\\n2 times - Very Bad Customer Service !,0,,,,\\nThe sweet potato fries were very good and seasoned well.,1,,,,\\nToday is the second time I\\'ve been to their lunch buffet and it was pretty good.,1,,,,\\nThere is so much good food in Vegas that I feel cheated for wasting an eating opportunity by going to Rice and Company.,0,,,,\\nComing here is like experiencing an underwhelming relationship where both parties can\\'t wait for the other person to ask to break up.,0,,,,\\nwalked in and the place smelled like an old grease trap and only 2 others there eating.,0,,,,\\nThe turkey and roast beef were bland.,0,,,,\\nThis place has it!,1,,,,\\nThe pan cakes everyone are raving about taste like a sugary disaster tailored to the palate of a six year old.,0,,,,\\nI love the Pho and the spring rolls oh so yummy you have to try.,1,,,,\\nThe poor batter to meat ratio made the chicken tenders very unsatisfying.,0,,,,\\nAll I have to say is the food was amazing!!!,1,,,,\\nOmelets are to die for!,1,,,,\\nEverything was fresh and delicious!,1,,,,\\nIn summary, this was a largely disappointing dining experience.,0,,,\\nIt\\'s like a really sexy party in your mouth, where you\\'re outrageously flirting with the hottest person at the party.,1,,,\\nNever been to Hard Rock Casino before, WILL NEVER EVER STEP FORWARD IN IT AGAIN!,0,,,\\nBest breakfast buffet!!!,1,,,,\\nsay bye bye to your tip lady!,0,,,,\\nWe\\'ll never go again.,0,,,,\\nWill be back again!,1,,,,\\nFood arrived quickly!,1,,,,\\nIt was not good.,0,,,,\\nOn the up side, their cafe serves really good food.,1,,,\\nOur server was fantastic and when he found out the wife loves roasted garlic and bone marrow, he added extra to our meal and another marrow to go!,1,,,\\nThe only good thing was our waiter, he was very helpful and kept the bloddy mary\\'s coming.,1,,,\\nBest Buffet in town, for the price you cannot beat it.,1,,,\\nI LOVED their mussels cooked in this wine reduction, the duck was tender, and their potato dishes were delicious.,1,,\\nThis is one of the better buffets that I have been to.,1,,,,\\nSo we went to Tigerlilly and had a fantastic afternoon!,1,,,,\\nThe food was delicious, our bartender was attentive and personable AND we got a great deal!,1,,,\\nThe ambience is wonderful and there is music playing.,1,,,,\\nWill go back next trip out.,1,,,,\\nSooooo good!!,1,,,,\\nREAL sushi lovers, let\\'s be honest - Yama is not that good.,0,,,\\nAt least 40min passed in between us ordering and the food arriving, and it wasn\\'t that busy.,0,,,\\nThis is a really fantastic Thai restaurant which is definitely worth a visit.,1,,,,\\nNice, spicy and tender.,1,,,\\nGood prices.,1,,,,\\nCheck it out.,1,,,,\\nIt was pretty gross!,0,,,,\\nI\\'ve had better atmosphere.,0,,,,\\nKind of hard to mess up a steak but they did.,0,,,,\\nAlthough I very much liked the look and sound of this place, the actual experience was a bit disappointing.,0,,,\\nI just don\\'t know how this place managed to served the blandest food I have ever eaten when they are preparing Indian cuisine.,0,,,,\\nWorst service to boot, but that is the least of their worries.,0,,,\\nService was fine and the waitress was friendly.,1,,,,\\nThe guys all had steaks, and our steak loving son who has had steak at the best and worst places said it was the best steak he\\'s ever eaten.,1,,,\\nWe thought you\\'d have to venture further away to get good sushi, but this place really hit the spot that night.,1,,,\\nHost staff were, for lack of a better word, BITCHES!,0,,\\nBland... Not a liking this place for a number of reasons and I don\\'t want to waste time on bad reviewing.. I\\'ll leave it at that...,0,,,,\\nPhenomenal food, service and ambiance.,1,,,\\nI wouldn\\'t return.,0,,,,\\nDefinitely worth venturing off the strip for the pork belly, will return next time I\\'m in Vegas.,1,,,\\nThis place is way too overpriced for mediocre food.,0,,,,\\nPenne vodka excellent!,1,,,,\\nThey have a good selection of food including a massive meatloaf sandwich, a crispy chicken wrap, a delish tuna melt and some tasty burgers.,1,,\\nThe management is rude.,0,,,,\\nDelicious NYC bagels, good selections of cream cheese, real Lox with capers even.,1,,\\nGreat Subway, in fact it\\'s so good when you come here every other Subway will not meet your expectations.,1,,,\\nI had a seriously solid breakfast here.,1,,,,\\nThis is one of the best bars with food in Vegas.,1,,,,\\nHe was extremely rude and really, there are so many other restaurants I would love to dine at during a weekend in Vegas.,0,,,\\nMy drink was never empty and he made some really great menu suggestions.,1,,,,\\nDon\\'t do it!!!!,0,,,,\\nThe waiter wasn\\'t helpful or friendly and rarely checked on us.,0,,,,\\nMy husband and I ate lunch here and were very disappointed with the food and service.,0,,,,\\nAnd the red curry had so much bamboo shoots and wasn\\'t very tasty to me.,0,,,,\\nNice blanket of moz over top but i feel like this was done to cover up the subpar food.,1,,,,\\nThe bathrooms are clean and the place itself is well decorated.,1,,,,\\nThe menu is always changing, food quality is going down & service is extremely slow.,0,,,\\nThe service was a little slow , considering that were served by 3 people servers so the food was coming in a slow pace.,0,,,\\nI give it 2 thumbs down,0,,,,\\nWe watched our waiter pay a lot more attention to other tables and ignore us.,0,,,,\\nMy fianc\\xc3\\xa9 and I came in the middle of the day and we were greeted and seated right away.,1,,,,\\nThis is a great restaurant at the Mandalay Bay.,1,,,,\\nWe waited for forty five minutes in vain.,0,,,,\\nCrostini that came with the salad was stale.,0,,,,\\nSome highlights : Great quality nigiri here!,1,,,,\\nthe staff is friendly and the joint is always clean.,1,,,,\\nthis was a different cut than the piece the other day but still wonderful and tender s well as well flavored.,1,,,,\\nI ordered the Voodoo pasta and it was the first time I\\'d had really excellent pasta since going gluten free several years ago.,1,,,,\\nthis place is good.,1,,,,\\nUnfortunately, we must have hit the bakery on leftover day because everything we ordered was STALE.,0,,,\\nI came back today since they relocated and still not impressed.,0,,,,\\nI was seated immediately.,1,,,,\\nTheir menu is diverse, and reasonably priced.,1,,,\\nAvoid at all cost!,0,,,,\\nRestaurant is always full but never a wait.,1,,,,\\nDELICIOUS!!,1,,,,\\nThis place is hands-down one of the best places to eat in the Phoenix metro area.,1,,,,\\nSo don\\'t go there if you are looking for good food...,0,,,,\\nI\\'ve never been treated so bad.,0,,,,\\nBacon is hella salty.,1,,,,\\nWe also ordered the spinach and avocado salad, the ingredients were sad and the dressing literally had zero taste.,0,,,\\nThis really is how Vegas fine dining used to be, right down to the menus handed to the ladies that have no prices listed.,1,,,\\nThe waitresses are very friendly.,1,,,,\\nLordy, the Khao Soi is a dish that is not to be missed for curry lovers!,1,,,\\nEverything on the menu is terrific and we were also thrilled that they made amazing accommodations for our vegetarian daughter.,1,,,,\\nPerhaps I caught them on an off night judging by the other reviews, but I\\'m not inspired to go back.,0,,,\\nThe service here leaves a lot to be desired.,0,,,,\\nThe atmosphere is modern and hip, while maintaining a touch of coziness.,1,,,\\nNot a weekly haunt, but definitely a place to come back to every once in a while.,1,,,\\nWe literally sat there for 20 minutes with no one asking to take our order.,0,,,,\\nThe burger had absolutely no flavor - the meat itself was totally bland, the burger was overcooked and there was no charcoal flavor.,0,,,\\nI also decided not to send it back because our waitress looked like she was on the verge of having a heart attack.,0,,,,\\nI dressed up to be treated so rudely!,0,,,,\\nIt was probably dirt.,0,,,,\\nLove this place, hits the spot when I want something healthy but not lacking in quantity or flavor.,1,,,\\nI ordered the Lemon raspberry ice cocktail which was also incredible.,1,,,,\\nThe food sucked, which we expected but it sucked more than we could have imagined.,0,,,\\nInteresting decor.,1,,,,\\nWhat I really like there is the crepe station.,1,,,,\\nAlso were served hot bread and butter, and home made potato chips with bacon bits on top....very original and very good.,1,,,\\nyou can watch them preparing the delicious food!),1,,,,\\nBoth of the egg rolls were fantastic.,1,,,,\\nWhen my order arrived, one of the gyros was missing.,0,,,\\nI had a salad with the wings, and some ice cream for dessert and left feeling quite satisfied.,1,,,\\nI\\'m not really sure how Joey\\'s was voted best hot dog in the Valley by readers of Phoenix Magazine.,0,,,,\\nThe best place to go for a tasty bowl of Pho!,1,,,,\\nThe live music on Fridays totally blows.,0,,,,\\nI\\'ve never been more insulted or felt disrespected.,0,,,,\\nVery friendly staff.,1,,,,\\nIt is worth the drive.,1,,,,\\nI had heard good things about this place, but it exceeding every hope I could have dreamed of.,1,,,\\nFood was great and so was the serivce!,1,,,,\\nThe warm beer didn\\'t help.,0,,,,\\nGreat brunch spot.,1,,,,\\nService is friendly and inviting.,1,,,,\\nVery good lunch spot.,1,,,,\\nI\\'ve lived here since 1979 and this was the first (and last) time I\\'ve stepped foot into this place.,0,,,,\\nThe WORST EXPERIENCE EVER.,0,,,,\\nMust have been an off night at this place.,0,,,,\\nThe sides are delish - mixed mushrooms, yukon gold puree, white corn - beateous.,1,,\\nIf that bug never showed up I would have given a 4 for sure, but on the other side of the wall where this bug was climbing was the kitchen.,0,,,\\nFor about 10 minutes, we we\\'re waiting for her salad when we realized that it wasn\\'t coming any time soon.,0,,,\\nMy friend loved the salmon tartar.,1,,,,\\nWon\\'t go back.,0,,,,\\nExtremely Tasty!,1,,,,\\nWaitress was good though!,1,,,,\\nSoggy and not good.,0,,,,\\nThe Jamaican mojitos are delicious.,1,,,,\\nWhich are small and not worth the price.,0,,,,\\n- the food is rich so order accordingly.,1,,,,\\nThe shower area is outside so you can only rinse, not take a full shower, unless you don\\'t mind being nude for everyone to see!,0,,\\nThe service was a bit lacking.,0,,,,\\nLobster Bisque, Bussell Sprouts, Risotto, Filet ALL needed salt and pepper..and of course there is none at the tables.,0,\\nHopefully this bodes for them going out of business and someone who can cook can come in.,0,,,,\\nIt was either too cold, not enough flavor or just bad.,0,,,\\nI loved the bacon wrapped dates.,1,,,,\\nThis is an unbelievable BARGAIN!,1,,,,\\nThe folks at Otto always make us feel so welcome and special.,1,,,,\\n\"As for the \"\"mains\",\" also uninspired.\\t0\\nThis is the place where I first had pho and it was amazing!!\\t1\\nThis wonderful experience made this place a must-stop whenever we are in town again.\\t1\\nIf the food isn\\'t bad enough for you, then enjoy dealing with the world\\'s worst/annoying drunk people.\\t0\\nVery very fun chef.\\t1\\nOrdered a double cheeseburger & got a single patty that was falling apart (picture uploaded) Yeah, still sucks.\\t0\\nGreat place to have a couple drinks and watch any and all sporting events as the walls are covered with TV\\'s.\\t1\\nIf it were possible to give them zero stars, they\\'d have it.\\t0\\nThe descriptions said \"\"yum yum sauce\"\" and another said \"\"eel sauce\",\" yet another said \"\"spicy mayo\"\"...well NONE of the rolls had sauces on them.\",0,,\\nI\\'d say that would be the hardest decision... Honestly, all of M\\'s dishes taste how they are supposed to taste (amazing).,1,,,\\nIf she had not rolled the eyes we may have stayed... Not sure if we will go back and try it again.,0,,,,\\nEveryone is very attentive, providing excellent customer service.,1,,,\\nHorrible - don\\'t waste your time and money.,0,,,,\\nNow this dish was quite flavourful.,1,,,,\\nBy this time our side of the restaurant was almost empty so there was no excuse.,0,,,,\\n(It wasn\\'t busy either) Also, the building was FREEZING cold.,0,,,\\n\"like the other reviewer said \"\"you couldn\\'t pay me to eat at this place again.\"\"\",0,,,,\\n-Drinks took close to 30 minutes to come out at one point.,0,,,,\\nSeriously flavorful delights, folks.,1,,,\\nMuch better than the other AYCE sushi place I went to in Vegas.,1,,,,\\nThe lighting is just dark enough to set the mood.,1,,,,\\nBased on the sub-par service I received and no effort to show their gratitude for my business I won\\'t be going back.,0,,,,\\nOwner\\'s are really great people.!,1,,,,\\nThere is nothing privileged about working/eating there.,0,,,,\\nThe Greek dressing was very creamy and flavorful.,1,,,,\\nOverall, I don\\'t think that I would take my parents to this place again because they made most of the similar complaints that I silently felt too.,0,,,\\nNow the pizza itself was good the peanut sauce was very tasty.,1,,,,\\nWe had 7 at our table and the service was pretty fast.,1,,,,\\nFantastic service here.,1,,,,\\nI as well would\\'ve given godfathers zero stars if possible.,0,,,,\\nThey know how to make them here.,1,,,,\\nvery tough and very short on flavor!,0,,,,\\nI hope this place sticks around.,1,,,,\\nI have been in more than a few bars in Vegas, and do not ever recall being charged for tap water.,0,,,\\nThe restaurant atmosphere was exquisite.,1,,,,\\nGood service, very clean, and inexpensive, to boot!,1,\\nThe seafood was fresh and generous in portion.,1,,,,\\nPlus, it\\'s only 8 bucks.,1,,,\\nThe service was not up to par, either.,0,,,\\nThus far, have only visited twice and the food was absolutely delicious each time.,1,,,\\nJust as good as when I had it more than a year ago!,1,,,,\\nFor a self proclaimed coffee cafe, I was wildly disappointed.,0,,,\\nThe Veggitarian platter is out of this world!,1,,,,\\nYou cant go wrong with any of the food here.,1,,,,\\nYou can\\'t beat that.,1,,,,\\nStopped by this place while in Madison for the Ironman, very friendly, kind staff.,1,,\\nThe chefs were friendly and did a good job.,1,,,,\\nI\\'ve had better, not only from dedicated boba tea spots, but even from Jenni Pho.,0,,\\nI liked the patio and the service was outstanding.,1,,,,\\nThe goat taco didn\\'t skimp on the meat and wow what FLAVOR!,1,,,,\\nI think not again,0,,,,\\nI had the mac salad and it was pretty bland so I will not be getting that again.,0,,,,\\nI went to Bachi Burger on a friend\\'s recommendation and was not disappointed.,1,,,,\\nService stinks here!,0,,,,\\nI waited and waited.,0,,,,\\nThis place is not quality sushi, it is not a quality restaurant.,0,,,\\nI would definitely recommend the wings as well as the pizza.,1,,,,\\nGreat Pizza and Salads!,1,,,,\\nThings that went wrong: - They burned the saganaki.,0,,,,\\nWe waited an hour for what was a breakfast I could have done 100 times better at home.,0,,,,\\nThis place is amazing!,1,,,,\\nI hate to disagree with my fellow Yelpers, but my husband and I were so disappointed with this place.,0,,,\\nWaited 2 hours & never got either of our pizzas as many other around us who came in later did!,0,,,,\\nJust don\\'t know why they were so slow.,0,,,,\\nThe staff is great, the food is delish, and they have an incredible beer selection.,1,,\\nI live in the neighborhood so I am disappointed I won\\'t be back here, because it is a convenient location.,0,,,\\nI didn\\'t know pulled pork could be soooo delicious.,1,,,,\\nYou get incredibly fresh fish, prepared with care.,1,,,\\nBefore I go in to why I gave a 1 star rating please know that this was my third time eating at Bachi burger before writing a review.,0,,,,\\nI love the fact that everything on their menu is worth it.,1,,,,\\nNever again will I be dining at this place!,0,,,,\\nThe food was excellent and service was very good.,1,,,,\\nGood beer & drink selection and good food selection.,1,,,,\\nPlease stay away from the shrimp stir fried noodles.,0,,,,\\nThe potato chip order was sad... I could probably count how many chips were in that box and it was probably around 12.,0,,,,\\nFood was really boring.,0,,,,\\nGood Service-check!,1,,,,\\nThis greedy corporation will NEVER see another dime from me!,0,,,,\\nWill never, ever go back.,0,,,\\nAs much as I\\'d like to go back, I can\\'t get passed the atrocious service and will never return.,0,,,\\nIn the summer, you can dine in a charming outdoor patio - so very delightful.,1,,,\\nI did not expect this to be so good!,1,,,,\\nFantastic food!,1,,,,\\nShe ordered a toasted English muffin that came out untoasted.,0,,,,\\nThe food was very good.,1,,,,\\nNever going back.,0,,,,\\nGreat food for the price, which is very high quality and house made.,1,,,\\nThe bus boy on the other hand was so rude.,0,,,,\\nBy this point, my friends and I had basically figured out this place was a joke and didn\\'t mind making it publicly and loudly known.,0,,,\\nBack to good BBQ, lighter fare, reasonable pricing and tell the public they are back to the old ways.,1,,\\nAnd considering the two of us left there very full and happy for about $20, you just can\\'t go wrong.,1,,,\\nAll the bread is made in-house!,1,,,,\\nThe only downside is the service.,0,,,,\\nAlso, the fries are without a doubt the worst fries I\\'ve ever had.,0,,,\\nService was exceptional and food was a good as all the reviews.,1,,,,\\nA couple of months later, I returned and had an amazing meal.,1,,,\\nFavorite place in town for shawarrrrrrma!!!!!!,1,,,,\\nThe black eyed peas and sweet potatoes... UNREAL!,1,,,,\\nYou won\\'t be disappointed.,1,,,,\\nThey could serve it with just the vinaigrette and it may make for a better overall dish, but it was still very good.,1,,,\\nI go to far too many places and I\\'ve never seen any restaurant that serves a 1 egg breakfast, especially for $4.00.,0,,,\\nWhen my mom and I got home she immediately got sick and she only had a few bites of salad.,0,,,,\\nThe servers are not pleasant to deal with and they don\\'t always honor Pizza Hut coupons.,0,,,,\\nBoth of them were truly unbelievably good, and I am so glad we went back.,1,,,\\nWe had fantastic service, and were pleased by the atmosphere.,1,,,\\nEverything was gross.,0,,,,\\nI love this place.,1,,,,\\nGreat service and food.,1,,,,\\nFirst - the bathrooms at this location were dirty- Seat covers were not replenished & just plain yucky!!!,0,,,,\\n\"The burger... I got the \"\"Gold Standard\"\" a $17 burger and was kind of disappointed.\",0,,,,\\nOMG, the food was delicioso!,1,,,\\nThere is nothing authentic about this place.,0,,,,\\nthe spaghetti is nothing special whatsoever.,0,,,,\\nOf all the dishes, the salmon was the best, but all were great.,1,,\\nThe vegetables are so fresh and the sauce feels like authentic Thai.,1,,,,\\nIt\\'s worth driving up from Tucson!,1,,,,\\nThe selection was probably the worst I\\'ve seen in Vegas.....there was none.,0,,,,\\nPretty good beer selection too.,1,,,,\\nThis place is like Chipotle, but BETTER.,1,,,\\nClassy/warm atmosphere, fun and fresh appetizers, succulent steaks (Baseball steak!!!!!,1,,\\n5 stars for the brick oven bread app!,1,,,,\\nI have eaten here multiple times, and each time the food was delicious.,1,,,\\nWe sat another ten minutes and finally gave up and left.,0,,,,\\nHe was terrible!,0,,,,\\nEveryone is treated equally special.,1,,,,\\nIt shouldn\\'t take 30 min for pancakes and eggs.,0,,,,\\nIt was delicious!!!,1,,,,\\nOn the good side, the staff was genuinely pleasant and enthusiastic - a real treat.,1,,,\\nSadly, Gordon Ramsey\\'s Steak is a place we shall sharply avoid during our next trip to Vegas.,0,,,\\nAs always the evening was wonderful and the food delicious!,1,,,,\\nBest fish I\\'ve ever had in my life!,1,,,,\\n(The bathroom is just next door and very nice.),1,,,,\\nThe buffet is small and all the food they offered was BLAND.,0,,,,\\nThis is an Outstanding little restaurant with some of the Best Food I have ever tasted.,1,,,,\\nPretty cool I would say.,1,,,,\\nDefinitely a turn off for me & i doubt I\\'ll be back unless someone else is buying.,0,,,,\\nServer did a great job handling our large rowdy table.,1,,,,\\nI find wasting food to be despicable, but this just wasn\\'t food.,0,,,\\nMy wife had the Lobster Bisque soup which was lukewarm.,0,,,,\\nWould come back again if I had a sushi craving while in Vegas.,1,,,,\\nThe staff are great, the ambiance is great.,1,,,\\nHe deserves 5 stars.,1,,,,\\nI left with a stomach ache and felt sick the rest of the day.,0,,,,\\nThey dropped more than the ball.,0,,,,\\nThe dining space is tiny, but elegantly decorated and comfortable.,1,,,\\nThey will customize your order any way you\\'d like, my usual is Eggplant with Green Bean stir fry, love it!,1,,\\nAnd the beans and rice were mediocre at best.,0,,,,\\nBest tacos in town by far!!,1,,,,\\nI took back my money and got outta there.,0,,,,\\nIn an interesting part of town, this place is amazing.,1,,,\\nRUDE & INCONSIDERATE MANAGEMENT.,0,,,,\\nThe staff are now not as friendly, the wait times for being served are horrible, no one even says hi for the first 10 minutes.,0,,\\nI won\\'t be back.,0,,,,\\nThey have great dinners.,1,,,,\\nThe service was outshining & I definitely recommend the Halibut.,1,,,,\\nThe food was terrible.,0,,,,\\nWILL NEVER EVER GO BACK AND HAVE TOLD MANY PEOPLE WHAT HAD HAPPENED.,0,,,,\\nI don\\'t recommend unless your car breaks down in front of it and you are starving.,0,,,,\\nI will come back here every time I\\'m in Vegas.,1,,,,\\nThis place deserves one star and 90% has to do with the food.,0,,,,\\nThis is a disgrace.,0,,,,\\nDef coming back to bowl next time,1,,,,\\nIf you want healthy authentic or ethic food, try this place.,1,,,\\nI will continue to come here on ladies night andddd date night ... highly recommend this place to anyone who is in the area (,,1,,,\\nI have been here several times in the past, and the experience has always been great.,1,,,\\nWe walked away stuffed and happy about our first Vegas buffet experience.,1,,,,\\nService was excellent and prices are pretty reasonable considering this is Vegas and located inside the Crystals shopping mall by Aria.,1,,,,\\nTo summarize... the food was incredible, nay, transcendant... but nothing brings me joy quite like the memory of the pneumatic condiment dispenser.,1,,\\nI\\'m probably one of the few people to ever go to Ians and not like it.,0,,,,\\nKids pizza is always a hit too with lots of great side dish options for the kiddos!,1,,,,\\nService is perfect and the family atmosphere is nice to see.,1,,,,\\nCooked to perfection and the service was impeccable.,1,,,,\\nThis one is simply a disappointment.,0,,,,\\nOverall, I was very disappointed with the quality of food at Bouchon.,0,,,\\nI don\\'t have to be an accountant to know I\\'m getting screwed!,0,,,,\\nGreat place to eat, reminds me of the little mom and pop shops in the San Francisco Bay Area.,1,,,\\nToday was my first taste of a Buldogis Gourmet Hot Dog and I have to tell you it was more than I ever thought possible.,1,,,,\\nLeft very frustrated.,0,,,,\\nI\\'ll definitely be in soon again.,1,,,,\\nFood was really good and I got full petty fast.,1,,,,\\nService was fantastic.,1,,,,\\nTOTAL WASTE OF TIME.,0,,,,\\nI don\\'t know what kind it is but they have the best iced tea.,1,,,,\\nCome hungry, leave happy and stuffed!,1,,,\\nFor service, I give them no stars.,0,,,\\nI can assure you that you won\\'t be disappointed.,1,,,,\\nI can take a little bad service but the food sucks.,0,,,,\\nGave up trying to eat any of the crust (teeth still sore).,0,,,,\\nBut now I was completely grossed out.,0,,,,\\nI really enjoyed eating here.,1,,,,\\nFirst time going but I think I will quickly become a regular.,1,,,,\\nOur server was very nice, and even though he looked a little overwhelmed with all of our needs, he stayed professional and friendly until the end.,1,,\\nFrom what my dinner companions told me...everything was very fresh with nice texture and taste.,1,,,,\\nOn the ground, right next to our table was a large, smeared, been-stepped-in-and-tracked-everywhere pile of green bird poop.,0,\\nFurthermore, you can\\'t even find hours of operation on the website!,0,,,\\nWe\\'ve tried to like this place but after 10+ times I think we\\'re done with them.,0,,,,\\nWhat a mistake that was!,0,,,,\\nNo complaints!,1,,,,\\nThis is some seriously good pizza and I\\'m an expert/connisseur on the topic.,1,,,,\\nWaiter was a jerk.,0,,,,\\nStrike 2, who wants to be rushed.,0,,,\\nThese are the nicest restaurant owners I\\'ve ever come across.,1,,,,\\nI never come again.,0,,,,\\nWe loved the biscuits!!!,1,,,,\\nService is quick and friendly.,1,,,,\\nOrdered an appetizer and took 40 minutes and then the pizza another 10 minutes.,0,,,,\\nSo absolutley fantastic.,1,,,,\\nIt was a huge awkward 1.5lb piece of cow that was 3/4ths gristle and fat.,0,,,,\\ndefinitely will come back here again.,1,,,,\\nI like Steiners because it\\'s dark and it feels like a bar.,1,,,,\\nWow very spicy but delicious.,1,,,,\\nIf you\\'re not familiar, check it out.,1,,,\\nI\\'ll take my business dinner dollars elsewhere.,0,,,,\\nI\\'d love to go back.,1,,,,\\nAnyway, this FS restaurant has a wonderful breakfast/lunch.,1,,,\\nNothing special.,0,,,,\\nEach day of the week they have a different deal and it\\'s all so delicious!,1,,,,\\nNot to mention the combination of pears, almonds and bacon is a big winner!,1,,,\\nWill not be back.,0,,,,\\nSauce was tasteless.,0,,,,\\nThe food is delicious and just spicy enough, so be sure to ask for spicier if you prefer it that way.,1,,,\\nMy ribeye steak was cooked perfectly and had great mesquite flavor.,1,,,,\\nI don\\'t think we\\'ll be going back anytime soon.,0,,,,\\nFood was so gooodd.,1,,,,\\nI am far from a sushi connoisseur but I can definitely tell the difference between good food and bad food and this was certainly bad food.,0,,,,\\nI was so insulted.,0,,,,\\nThe last 3 times I had lunch here has been bad.,0,,,,\\nThe chicken wings contained the driest chicken meat I have ever eaten.,0,,,,\\nThe food was very good and I enjoyed every mouthful, an enjoyable relaxed venue for couples small family groups etc.,1,,,\\nNargile - I think you are great.,1,,,,\\nBest tater tots in the southwest.,1,,,,\\nWe loved the place.,1,,,,\\nDefinitely not worth the $3 I paid.,0,,,,\\nThe vanilla ice cream was creamy and smooth while the profiterole (choux) pastry was fresh enough.,1,,,,\\nIm in AZ all the time and now have my new spot.,1,,,,\\nThe manager was the worst.,0,,,,\\nThe inside is really quite nice and very clean.,1,,,,\\nThe food was outstanding and the prices were very reasonable.,1,,,,\\nI don\\'t think I\\'ll be running back to Carly\\'s anytime soon for food.,0,,,,\\nThis is was due to the fact that it took 20 minutes to be acknowledged, then another 35 minutes to get our food...and they kept forgetting things.,0,,,\\nLove the margaritas, too!,1,,,\\nThis was my first and only Vegas buffet and it did not disappoint.,1,,,,\\nVery good, though!,1,,,\\nThe one down note is the ventilation could use some upgrading.,0,,,,\\nGreat pork sandwich.,1,,,,\\nDon\\'t waste your time here.,0,,,,\\nTotal letdown, I would much rather just go to the Camelback Flower Shop and Cartel Coffee.,0,,,\\nThird, the cheese on my friend\\'s burger was cold.,0,,,\\nWe enjoy their pizza and brunch.,1,,,,\\nThe steaks are all well trimmed and also perfectly cooked.,1,,,,\\nWe had a group of 70+ when we claimed we would only have 40 and they handled us beautifully.,1,,,,\\nI LOVED it!,1,,,,\\nWe asked for the bill to leave without eating and they didn\\'t bring that either.,0,,,,\\nThis place is a jewel in Las Vegas, and exactly what I\\'ve been hoping to find in nearly ten years living here.,1,,,\\nSeafood was limited to boiled shrimp and crab legs but the crab legs definitely did not taste fresh.,0,,,,\\nThe selection of food was not the best.,0,,,,\\nDelicious and I will absolutely be back!,1,,,,\\nThis isn\\'t a small family restaurant, this is a fine dining establishment.,1,,,\\nThey had a toro tartare with a cavier that was extraordinary and I liked the thinly sliced wagyu with white truffle.,1,,,,\\nI dont think I will be back for a very long time.,0,,,,\\nIt was attached to a gas station, and that is rarely a good sign.,0,,,\\nHow awesome is that.,1,,,,\\nI will be back many times soon.,1,,,,\\nThe menu had so much good stuff on it i could not decide!,1,,,,\\nWorse of all, he humiliated his worker right in front of me..Bunch of horrible name callings.,0,,,\\nCONCLUSION: Very filling meals.,1,,,,\\nTheir daily specials are always a hit with my group.,1,,,,\\nAnd then tragedy struck.,0,,,,\\nThe pancake was also really good and pretty large at that.,1,,,,\\nThis was my first crawfish experience, and it was delicious!,1,,,\\nTheir monster chicken fried steak and eggs is my all time favorite.,1,,,,\\nWaitress was sweet and funny.,1,,,,\\nI also had to taste my Mom\\'s multi-grain pumpkin pancakes with pecan butter and they were amazing, fluffy, and delicious!,1,,\\nI\\'d rather eat airline food, seriously.,0,,,\\nCant say enough good things about this place.,1,,,,\\nThe ambiance was incredible.,1,,,,\\nThe waitress and manager are so friendly.,1,,,,\\nI would not recommend this place.,0,,,,\\nOverall I wasn\\'t very impressed with Noca.,0,,,,\\nMy gyro was basically lettuce only.,0,,,,\\nTerrible service!,0,,,,\\nThoroughly disappointed!,0,,,,\\nI don\\'t each much pasta, but I love the homemade /hand made pastas and thin pizzas here.,1,,,\\nGive it a try, you will be happy you did.,1,,,\\nBy far the BEST cheesecurds we have ever had!,1,,,,\\nReasonably priced also!,1,,,,\\nEverything was perfect the night we were in.,1,,,,\\nThe food is very good for your typical bar food.,1,,,,\\nit was a drive to get there.,0,,,,\\nAt first glance it is a lovely bakery cafe - nice ambiance, clean, friendly staff.,1,,\\nAnyway, I do not think i will go back there.,0,,,\\nPoint your finger at any item on the menu, order it and you won\\'t be disappointed.,1,,,\\nOh this is such a thing of beauty, this restaurant.,1,,,\\nIf you haven\\'t gone here GO NOW!,1,,,,\\nA greasy, unhealthy meal.,0,,,\\nfirst time there and might just be the last.,0,,,,\\nThose burgers were amazing.,1,,,,\\nSimilarly, the delivery man did not say a word of apology when our food was 45 minutes late.,0,,,\\nAnd it was way to expensive.,0,,,,\\nBe sure to order dessert, even if you need to pack it to-go - the tiramisu and cannoli are both to die for.,1,,,\\nThis was my first time and I can\\'t wait until the next.,1,,,,\\nThe bartender was also nice.,1,,,,\\nEverything was good and tasty!,1,,,,\\nThis place is two thumbs up....way up.,1,,,,\\nThe best place in Vegas for breakfast (just check out a Sat, or Sun.,1,,,\\nIf you love authentic Mexican food and want a whole bunch of interesting, yet delicious meats to choose from, you need to try this place.,1,,\\nTerrible management.,0,,,,\\nAn excellent new restaurant by an experienced Frenchman.,1,,,,\\nIf there were zero stars I would give it zero stars.,0,,,,\\nGreat steak, great sides, great wine, amazing desserts.,1,\\nWorst martini ever!,0,,,,\\nThe steak and the shrimp are in my opinion the best entrees at GC.,1,,,,\\nI had the opportunity today to sample your amazing pizzas!,1,,,,\\nWe waited for thirty minutes to be seated (although there were 8 vacant tables and we were the only folks waiting).,0,,,,\\nThe yellowtail carpaccio was melt in your mouth fresh.,1,,,,\\nI won\\'t try going back there even if it\\'s empty.,0,,,,\\nNo, I\\'m going to eat the potato that I found some strangers hair in it.,0,,,\\nJust spicy enough.. Perfect actually.,1,,,,\\nLast night was my second time dining here and I was so happy I decided to go back!,1,,,,\\n\"not even a \"\"hello\",\" we will be right with you.\"\"\",0,,,\\nThe desserts were a bit strange.,0,,,,\\nMy boyfriend and I came here for the first time on a recent trip to Vegas and could not have been more pleased with the quality of food and service.,1,,,,\\nI really do recommend this place, you can go wrong with this donut place!,1,,,\\nNice ambiance.,1,,,,\\nI would recommend saving room for this!,1,,,,\\nI guess maybe we went on an off night but it was disgraceful.,0,,,,\\nHowever, my recent experience at this particular location was not so good.,0,,,\\nI know this is not like the other restaurants at all, something is very off here!,0,,,\\nAVOID THIS ESTABLISHMENT!,0,,,,\\nI think this restaurant suffers from not trying hard enough.,0,,,,\\nAll of the tapas dishes were delicious!,1,,,,\\nI *heart* this place.,1,,,,\\nMy salad had a bland vinegrette on the baby greens and hearts of Palm.,0,,,,\\nAfter two I felt disgusting.,0,,,,\\nA good time!,1,,,,\\nI believe that this place is a great stop for those with a huge belly and hankering for sushi.,1,,,,\\nGenerous portions and great taste.,1,,,,\\nI will never go back to this place and will never ever recommended this place to anyone!,0,,,,\\nThe servers went back and forth several times,\" not even so much as an \"\"Are you being helped?\"\"\",0,,,\\nFood was delicious!,1,,,,\\nAN HOUR... seriously?,0,,,,\\nI consider this theft.,0,,,,\\nEew... This location needs a complete overhaul.,0,,,,\\nWe recently witnessed her poor quality of management towards other guests as well.,0,,,,\\nWaited and waited and waited.,0,,,,\\nHe also came back to check on us regularly, excellent service.,1,,,\\nOur server was super nice and checked on us many times.,1,,,,\\nThe pizza tasted old, super chewy in not a good way.,0,,,\\nI swung in to give them a try but was deeply disappointed.,0,,,,\\nService was good and the company was better!,1,,,,\\nThe staff are also very friendly and efficient.,1,,,,\\nAs for the service: I\\'m a fan, because it\\'s quick and you\\'re being served by some nice folks.,1,,,\\nBoy was that sucker dry!!.,0,,,,\\nOver rated.,0,,,,\\nIf you look for authentic Thai food, go else where.,0,,,\\nTheir steaks are 100% recommended!,1,,,,\\nAfter I pulled up my car I waited for another 15 minutes before being acknowledged.,0,,,,\\nGreat food and great service in a clean and friendly setting.,1,,,,\\nAll in all, I can assure you I\\'ll be back.,1,,,\\nI hate those things as much as cheap quality black olives.,0,,,,\\nMy breakfast was perpared great, with a beautiful presentation of 3 giant slices of Toast, lightly dusted with powdered sugar.,1,,\\nThe kids play area is NASTY!,0,,,,\\nGreat place fo take out or eat in.,1,,,,\\nThe waitress was friendly and happy to accomodate for vegan/veggie options.,1,,,,\\nOMG I felt like I had never eaten Thai food until this dish.,1,,,,\\n\"It was extremely \"\"crumby\"\" and pretty tasteless.\",0,,,,\\nIt was a pale color instead of nice and char and has NO flavor.,0,,,,\\nThe croutons also taste homemade which is an extra plus.,1,,,,\\nI got home to see the driest damn wings ever!,0,,,,\\nIt\\'ll be a regular stop on my trips to Phoenix!,1,,,,\\nI really enjoyed Crema Caf\\xc3\\xa9 before they expanded, I even told friends they had the BEST breakfast.,1,,,\\nNot good for the money.,0,,,,\\nI miss it and wish they had one in Philadelphia!,1,,,,\\nWe got sitting fairly fast, but, ended up waiting 40 minutes just to place our order, another 30 minutes before the food arrived.,0,\\nThey also have the best cheese crisp in town.,1,,,,\\nGood value, great food, great service.,1,,\\nCouldn\\'t ask for a more satisfying meal.,1,,,,\\nThe food is good.,1,,,,\\nIt was awesome.,1,,,,\\nI just wanted to leave.,0,,,,\\nWe made the drive all the way from North Scottsdale... and I was not one bit disappointed!,1,,,,\\nI will not be eating there again.,0,,,,\\n!....THE OWNERS REALLY REALLY need to quit being soooooo cheap let them wrap my freaking sandwich in two papers not one!,0,,,,\\nI checked out this place a couple years ago and was not impressed.,0,,,,\\nThe chicken I got was definitely reheated and was only ok, the wedges were cold and soggy.,0,,,\\nSorry, I will not be getting food from here anytime soon :(,0,,,\\nAn absolute must visit!,1,,,,\\nThe cow tongue and cheek tacos are amazing.,1,,,,\\nMy friend did not like his Bloody Mary.,0,,,,\\nDespite how hard I rate businesses, its actually rare for me to give a 1 star.,0,,,\\nThey really want to make your experience a good one.,1,,,,\\nI will not return.,0,,,,\\nI had the chicken Pho and it tasted very bland.,0,,,,\\nVery disappointing!!!,0,,,,\\nThe grilled chicken was so tender and yellow from the saffron seasoning.,1,,,,\\na drive thru means you do not want to wait around for half an hour for your food, but somehow when we end up going here they make us wait and wait.,0,,,\\nPretty awesome place.,1,,,,\\nAmbience is perfect.,1,,,,\\nBest of luck to the rude and non-customer service focused new management.,0,,,,\\nAny grandmother can make a roasted chicken better than this one.,0,,,,\\nI asked multiple times for the wine list and after some time of being ignored I went to the hostess and got one myself.,0,,,,\\nThe staff is always super friendly and helpful, which is especially cool when you bring two small boys and a baby!,1,,,\\nFour stars for the food & the guy in the blue shirt for his great vibe & still letting us in to eat !,1,,,,\\nThe roast beef sandwich tasted really good!,1,,,,\\nSame evening, him and I are both drastically sick.,0,,,\\nHigh-quality chicken on the chicken Caesar salad.,1,,,,\\nOrdered burger rare came in we\\'ll done.,0,,,,\\nWe were promptly greeted and seated.,1,,,,\\nTried to go here for lunch and it was a madhouse.,0,,,,\\nI was proven dead wrong by this sushi bar, not only because the quality is great, but the service is fast and the food, impeccable.,1,\\nAfter waiting an hour and being seated, I was not in the greatest of moods.,0,,,\\nThis is a good joint.,1,,,,\\nThe Macarons here are insanely good.,1,,,,\\nI\\'m not eating here!,0,,,,\\nOur waiter was very attentive, friendly, and informative.,1,,\\nMaybe if they weren\\'t cold they would have been somewhat edible.,0,,,,\\nThis place has a lot of promise but fails to deliver.,0,,,,\\nVery bad Experience!,0,,,,\\nWhat a mistake.,0,,,,\\nFood was average at best.,0,,,,\\nGreat food.,1,,,,\\nWe won\\'t be going back anytime soon!,0,,,,\\nVery Very Disappointed ordered the $35 Big Bay Plater.,0,,,,\\nGreat place to relax and have an awesome burger and beer.,1,,,,\\nIt is PERFECT for a sit-down family meal or get together with a few friends.,1,,,,\\nNot much flavor to them, and very poorly constructed.,0,,,\\nThe patio seating was very comfortable.,1,,,,\\nThe fried rice was dry as well.,0,,,,\\nHands down my favorite Italian restaurant!,1,,,,\\n\"That just SCREAMS \"\"LEGIT\"\" in my book...somethat\\'s also pretty rare here in Vegas.\",1,,,,\\nIt was just not a fun experience.,1,,,,\\nThe atmosphere was great with a lovely duo of violinists playing songs we requested.,1,,,,\\nI personally love the hummus, pita, baklava, falafels and Baba Ganoush (it\\'s amazing what they do with eggplant!).,1,\\nVery convenient, since we were staying at the MGM!,1,,,\\nThe owners are super friendly and the staff is courteous.,1,,,,\\nBoth great!,1,,,,\\nEclectic selection.,1,,,,\\nThe sweet potato tots were good but the onion rings were perfection or as close as I have had.,1,,,,\\nThe staff was very attentive.,1,,,,\\nAnd the chef was generous with his time (even came around twice so we can take pictures with him).,1,,,,\\nThe owner used to work at Nobu, so this place is really similar for half the price.,1,,,\\nGoogle mediocre and I imagine Smashburger will pop up.,0,,,,\\ndont go here.,0,,,,\\nI promise they won\\'t disappoint.,1,,,,\\nAs a sushi lover avoid this place by all means.,0,,,,\\nWhat a great double cheeseburger!,1,,,,\\nAwesome service and food.,1,,,,\\nA fantastic neighborhood gem !!!,1,,,,\\nI can\\'t wait to go back.,1,,,,\\nThe plantains were the worst I\\'ve ever tasted.,0,,,,\\nIt\\'s a great place and I highly recommend it.,1,,,,\\nService was slow and not attentive.,0,,,,\\nI gave it 5 stars then, and I\\'m giving it 5 stars now.,1,,,\\nYour staff spends more time talking to themselves than me.,0,,,,\\nDessert: Panna Cotta was amazing.,1,,,,\\nVery good food, great atmosphere.1,1,,,\\nDamn good steak.,1,,,,\\nTotal brunch fail.,0,,,,\\nPrices are very reasonable, flavors are spot on, the sauce is home made, and the slaw is not drenched in mayo.,1,\\nThe decor is nice, and the piano music soundtrack is pleasant.,1,,,\\nThe steak was amazing...rge fillet relleno was the best seafood plate i have ever had!,1,,,,\\nGood food , good service .,1,,,\\nIt was absolutely amazing.,1,,,,\\nI probably won\\'t be back, to be honest.,0,,,\\nwill definitely be back!,1,,,,\\nThe sergeant pepper beef sandwich with auju sauce is an excellent sandwich as well.,1,,,,\\nHawaiian Breeze, Mango Magic, and Pineapple Delight are the smoothies that I\\'ve tried so far and they\\'re all good.,1,,\\nWent for lunch - service was slow.,0,,,,\\nWe had so much to say about the place before we walked in that he expected it to be amazing, but was quickly disappointed.,0,,,\\nI was mortified.,0,,,,\\nNeedless to say, we will never be back here again.,0,,,\\nAnyways, The food was definitely not filling at all, and for the price you pay you should expect more.,0,,\\nThe chips that came out were dripping with grease, and mostly not edible.,0,,,\\nI wasn\\'t really impressed with Strip Steak.,0,,,,\\nHave been going since 2007 and every meal has been awesome!!,1,,,,\\nOur server was very nice and attentive as were the other serving staff.,1,,,,\\nThe cashier was friendly and even brought the food out to me.,1,,,,\\nI work in the hospitality industry in Paradise Valley and have refrained from recommending Cibo any longer.,0,,,,\\nThe atmosphere here is fun.,1,,,,\\nWould not recommend to others.,0,,,,\\n\"Service is quick and even \"\"to go\"\" orders are just like we like it!\",1,,,,\\nI mean really, how do you get so famous for your fish and chips when it\\'s so terrible!?!,0,,,\\nThat said, our mouths and bellies were still quite pleased.,1,,,\\nNot my thing.,0,,,,\\n2 Thumbs Up!!,1,,,,\\nIf you are reading this please don\\'t go there.,0,,,,\\nI loved the grilled pizza, reminded me of legit Italian pizza.,1,,,\\nOnly Pros : Large seating area/ Nice bar area/ Great simple drink menu/ The BEST brick oven pizza with homemade dough!,1,,,,\\nThey have a really nice atmosphere.,1,,,,\\nTonight I had the Elk Filet special...and it sucked.,0,,,,\\nAfter one bite, I was hooked.,1,,,\\nWe ordered some old classics and some new dishes after going there a few times and were sorely disappointed with everything.,0,,,,\\nCute, quaint, simple, honest.,1,\\nThe chicken was deliciously seasoned and had the perfect fry on the outside and moist chicken on the inside.,1,,,,\\nThe food was great as always, compliments to the chef.,1,,,\\nSpecial thanks to Dylan T. for the recommendation on what to order :) All yummy for my tummy.,1,,,,\\nAwesome selection of beer.,1,,,,\\nGreat food and awesome service!,1,,,,\\nOne nice thing was that they added gratuity on the bill since our party was larger than 6 or 8, and they didn\\'t expect more tip than that.,1,,,\\nA FLY was in my apple juice.. A FLY!!!!!!!!,0,,,,\\nThe Han Nan Chicken was also very tasty.,1,,,,\\nAs for the service, I thought it was good.,1,,,\\nThe food was barely lukewarm, so it must have been sitting waiting for the server to bring it out to us.,0,,,\\nRyan\\'s Bar is definitely one Edinburgh establishment I won\\'t be revisiting.,0,,,,\\nNicest Chinese restaurant I\\'ve been in a while.,1,,,,\\nOverall, I like there food and the service.,1,,,\\nThey also now serve Indian naan bread with hummus and some spicy pine nut sauce that was out of this world.,1,,,,\\nProbably never coming back, and wouldn\\'t recommend it.,0,,,\\nFriend\\'s pasta -- also bad, he barely touched it.,0,,,\\nTry them in the airport to experience some tasty food and speedy, friendly service.,1,,,\\nI love the decor with the Chinese calligraphy wall paper.,1,,,,\\nNever had anything to complain about here.,1,,,,\\nThe restaurant is very clean and has a family restaurant feel to it.,1,,,,\\nIt was way over fried.,0,,,,\\nI\\'m not sure how long we stood there but it was long enough for me to begin to feel awkwardly out of place.,0,,,,\\nWhen I opened the sandwich, I was impressed, but not in a good way.,0,,\\nWill not be back!,0,,,,\\nThere was a warm feeling with the service and I felt like their guest for a special treat.,1,,,,\\nAn extensive menu provides lots of options for breakfast.,1,,,,\\nI always order from the vegetarian menu during dinner, which has a wide array of options to choose from.,1,,,\\nI have watched their prices inflate, portions get smaller and management attitudes grow rapidly!,0,,,\\nWonderful lil tapas and the ambience made me feel all warm and fuzzy inside.,1,,,,\\nI got to enjoy the seafood salad, with a fabulous vinegrette.,1,,,\\nThe wontons were thin, not thick and chewy, almost melt in your mouth.,1,,\\nLevel 5 spicy was perfect, where spice didn\\'t over-whelm the soup.,1,,,\\nWe were sat right on time and our server from the get go was FANTASTIC!,1,,,,\\nMain thing I didn\\'t enjoy is that the crowd is of older crowd, around mid 30s and up.,0,,,\\nWhen I\\'m on this side of town, this will definitely be a spot I\\'ll hit up again!,1,,,\\nI had to wait over 30 minutes to get my drink and longer to get 2 arepas.,0,,,,\\nThis is a GREAT place to eat!,1,,,,\\nThe jalapeno bacon is soooo good.,1,,,,\\nThe service was poor and thats being nice.,0,,,,\\nFood was good, service was good, Prices were good.,1,,\\nThe place was not clean and the food oh so stale!,0,,,,\\nThe chicken dishes are OK, the beef is like shoe leather.,0,,,\\nBut the service was beyond bad.,0,,,,\\n\"I\\'m so happy to be here!!!\"\"\",1,,,,\\nTasted like dirt.,0,,,,\\nOne of the few places in Phoenix that I would definately go back to again .,1,,,,\\nThe block was amazing.,1,,,,\\nIt\\'s close to my house, it\\'s low-key, non-fancy, affordable prices, good food.,1\\n* Both the Hot & Sour & the Egg Flower Soups were absolutely 5 Stars!,1,,,,\\nMy sashimi was poor quality being soggy and tasteless.,0,,,,\\nGreat time - family dinner on a Sunday night.,1,,,,\\nthe food is not tasty at all,\" not to say its \"\"real traditional Hunan style\"\".\",0,,,\\nWhat did bother me, was the slow service.,0,,,\\nThe flair bartenders are absolutely amazing!,1,,,,\\nTheir frozen margaritas are WAY too sugary for my taste.,0,,,,\\nThese were so good we ordered them twice.,1,,,,\\nSo in a nutshell: 1) The restaraunt smells like a combination of a dirty fish market and a sewer.,0,,,,\\nMy girlfriend\\'s veal was very bad.,0,,,,\\nUnfortunately, it was not good.,0,,,\\nI had a pretty satifying experience.,1,,,,\\nJoin the club and get awesome offers via email.,1,,,,\\nPerfect for someone (me) who only likes beer ice cold, or in this case, even colder.,1,,\\nBland and flavorless is a good way of describing the barely tepid meat.,0,,,,\\nThe chains, which I\\'m no fan of, beat this place easily.,0,,\\nThe nachos are a MUST HAVE!,1,,,,\\nWe will not be coming back.,0,,,,\\nI don\\'t have very many words to say about this place, but it does everything pretty well.,1,,,\\nThe staff is super nice and very quick even with the crazy crowds of the downtown juries, lawyers, and court staff.,1,,\\nGreat atmosphere, friendly and fast service.,1,,,\\nWhen I received my Pita it was huge it did have a lot of meat in it so thumbs up there.,1,,,,\\nOnce your food arrives it\\'s meh.,0,,,,\\nPaying $7.85 for a hot dog and fries that looks like it came out of a kid\\'s meal at the Wienerschnitzel is not my idea of a good meal.,0,,,,\\nThe classic Maine Lobster Roll was fantastic.,1,,,,\\nMy brother in law who works at the mall ate here same day, and guess what he was sick all night too.,0,,,\\nSo good I am going to have to review this place twice - once hereas a tribute to the place and once as a tribute to an event held here last night.,1,,,,\\nThe chips and salsa were really good, the salsa was very fresh.,1,,,\\nThis place is great!!!!!!!!!!!!!!,1,,,,\\nMediocre food.,0,,,,\\nOnce you get inside you\\'ll be impressed with the place.,1,,,,\\nI\\'m super pissd.,0,,,,\\nAnd service was super friendly.,1,,,,\\nWhy are these sad little vegetables so overcooked?,0,,,,\\nThis place was such a nice surprise!,1,,,,\\nThey were golden-crispy and delicious.,1,,,,\\nI had high hopes for this place since the burgers are cooked over a charcoal grill, but unfortunately the taste fell flat, way flat.,0,,\\nI could eat their bruschetta all day it is devine.,1,,,,\\nNot a single employee came out to see if we were OK or even needed a water refill once they finally served us our food.,0,,,,\\nLastly, the mozzarella sticks, they were the best thing we ordered.,1,,\\nThe first time I ever came here I had an amazing experience, I still tell people how awesome the duck was.,1,,,\\nThe server was very negligent of our needs and made us feel very unwelcome... I would not suggest this place!,0,,,,\\nThe service was terrible though.,0,,,,\\nThis place is overpriced, not consistent with their boba, and it really is OVERPRICED!,0,,\\nIt was packed!!,0,,,,\\nI love this place.,1,,,,\\nI can say that the desserts were yummy.,1,,,,\\nThe food was terrible.,0,,,,\\nThe seasonal fruit was fresh white peach puree.,1,,,,\\nIt kept getting worse and worse so now I\\'m officially done.,0,,,,\\nThis place should honestly be blown up.,0,,,,\\nBut I definitely would not eat here again.,0,,,,\\nDo not waste your money here!,0,,,,\\nI love that they put their food in nice plastic containers as opposed to cramming it in little paper takeout boxes.,1,,,,\\nThe cr\\xc3\\xaape was delicate and thin and moist.,1,,,,\\nAwful service.,0,,,,\\nWon\\'t ever go here again.,0,,,,\\nFood quality has been horrible.,0,,,,\\nFor that price I can think of a few place I would have much rather gone.,0,,,,\\nThe service here is fair at best.,0,,,,\\nI do love sushi, but I found Kabuki to be over-priced, over-hip and under-services.,0,,\\nDo yourself a favor and stay away from this dish.,0,,,,\\nVery poor service.,0,,,,\\nNo one at the table thought the food was above average or worth the wait that we had for it.,0,,,,\\nBest service and food ever, Maria our server was so good and friendly she made our day.,1,,,\\nThey were excellent.,1,,,,\\nI paid the bill but did not tip because I felt the server did a terrible job.,0,,,,\\nJust had lunch here and had a great experience.,1,,,,\\nI have never had such bland food which surprised me considering the article we read focused so much on their spices and flavor.,0,,,,\\nFood is way overpriced and portions are fucking small.,0,,,,\\nI recently tried Caballero\\'s and I have been back every week since!,1,,,,\\nfor 40 bucks a head, i really expect better food.,0,,,\\nThe food came out at a good pace.,1,,,,\\nI ate there twice on my last visit, and especially enjoyed the salmon salad.,1,,,\\nI won\\'t be back.,0,,,,\\nWe could not believe how dirty the oysters were!,0,,,,\\nThis place deserves no stars.,0,,,,\\nI would not recommend this place.,0,,,,\\nIn fact I\\'m going to round up to 4 stars, just because she was so awesome.,1,,,\\nTo my disbelief, each dish qualified as the worst version of these foods I have ever tasted.,0,,,\\nBad day or not, I have a very low tolerance for rude customer service people, it is your job to be nice and polite, wash dishes otherwise!!,0,\\nthe potatoes were great and so was the biscuit.,1,,,,\\nI probably would not go here again.,0,,,,\\nSo flavorful and has just the perfect amount of heat.,1,,,,\\nThe price is reasonable and the service is great.,1,,,,\\nThe Wife hated her meal (coconut shrimp), and our friends really did not enjoy their meals, either.,0,,\\nMy fella got the huevos rancheros and they didn\\'t look too appealing.,0,,,,\\nWent in for happy hour, great list of wines.,1,,,\\nSome may say this buffet is pricey but I think you get what you pay for and this place you are getting quite a lot!,1,,,,\\nI probably won\\'t be coming back here.,0,,,,\\nWorst food/service I\\'ve had in a while.,0,,,,\\nThis place is pretty good, nice little vibe in the restaurant.,1,,,\\nTalk about great customer service of course we will be back.,1,,,,\\nHot dishes are not hot, cold dishes are close to room temp.I watched staff prepare food with BARE HANDS, no gloves.Everything is deep fried in oil.,0,,\\nI love their fries and their beans.,1,,,,\\nAlways a pleasure dealing with him.,1,,,,\\nThey have a plethora of salads and sandwiches, and everything I\\'ve tried gets my seal of approval.,1,,,\\nThis place is awesome if you want something light and healthy during the summer.,1,,,,\\nFor sushi on the Strip, this is the place to go.,1,,,\\nThe service was great, even the manager came and helped with our table.,1,,,\\nThe feel of the dining room was more college cooking course than high class dining and the service was slow at best.,0,,,,\\nI started this review with two stars, but I\\'m editing it to give it only one.,0,,,\\nthis is the worst sushi i have ever eat besides Costco\\'s.,0,,,,\\nAll in all an excellent restaurant highlighted by great service, a unique menu, and a beautiful setting.,1,,\\nMy boyfriend and i sat at the bar and had a completely delightful experience.,1,,,,\\nWeird vibe from owners.,0,,,,\\nThere was hardly any meat.,0,,,,\\nI\\'ve had better bagels from the grocery store.,0,,,,\\nGo To Place for Gyros.,1,,,,\\nI love the owner/chef, his one authentic Japanese cool dude!,1,,,\\nNow the burgers aren\\'t as good, the pizza which used to be amazing is doughy and flavorless.,0,,,\\nI found a six inch long piece of wire in my salsa.,0,,,,\\nThe service was terrible, food was mediocre.,0,,,\\nWe definately enjoyed ourselves.,1,,,,\\nI ordered Albondigas soup - which was just warm - and tasted like tomato soup with frozen meatballs.,0,,,,\\nOn three different occasions I asked for well done or medium well, and all three times I got the bloodiest piece of meat on my plate.,0,,,\\nI had about two bites and refused to eat anymore.,0,,,,\\nThe service was extremely slow.,0,,,,\\nAfter 20 minutes wait, I got a table.,0,,,\\nSeriously killer hot chai latte.,1,,,,\\nNo allergy warnings on the menu, and the waitress had absolutely no clue as to which meals did or did not contain peanuts.,0,,,\\nMy boyfriend tried the Mediterranean Chicken Salad and fell in love.,1,,,,\\nTheir rotating beers on tap is also a highlight of this place.,1,,,,\\nPricing is a bit of a concern at Mellow Mushroom.,0,,,,\\nWorst Thai ever.,0,,,,\\nIf you stay in Vegas you must get breakfast here at least once.,1,,,,\\nI want to first say our server was great and we had perfect service.,1,,,,\\nThe pizza selections are good.,1,,,,\\nI had strawberry tea, which was good.,1,,,\\nHighly unprofessional and rude to a loyal patron!,0,,,,\\nOverall, a great experience.,1,,,\\nSpend your money elsewhere.,0,,,,\\nTheir regular toasted bread was equally satisfying with the occasional pats of butter... Mmmm...!,1,,,,\\nThe Buffet at Bellagio was far from what I anticipated.,0,,,,\\nAnd the drinks are WEAK, people!,0,,,\\n-My order was not correct.,0,,,,\\nAlso, I feel like the chips are bought, not made in house.,0,,\\nAfter the disappointing dinner we went elsewhere for dessert.,0,,,,\\nThe chips and sals a here is amazing!!!!!!!!!!!!!!!!!!!,1,,,,\\nWe won\\'t be returning.,0,,,,\\nThis is my new fav Vegas buffet spot.,1,,,,\\nI seriously cannot believe that the owner has so many unexperienced employees that all are running around like chickens with their heads cut off.,0,,,,\\nVery, very sad.,0,,,\\ni felt insulted and disrespected, how could you talk and judge another human being like that?,0,,,\\nHow can you call yourself a steakhouse if you can\\'t properly cook a steak, I don\\'t understand!,0,,,\\nI\\'m not impressed with the concept or the food.,0,,,,\\nThe only thing I wasn\\'t too crazy about was their guacamole as I don\\'t like it pur\\xc3\\xa9ed.,0,,,,\\nThere is really nothing for me at postinos, hope your experience is better,0,,,\\nI got food poisoning here at the buffet.,0,,,,\\nThey brought a fresh batch of fries and I was thinking yay something warm but no!,0,,,,\\nWhat SHOULD have been a hilarious, yummy Christmas Eve dinner to remember was the biggest fail of the entire trip for us.,0,,,\\nNeedless to say, I won\\'t be going back anytime soon.,0,,,\\nThis place is disgusting!,0,,,,\\nEvery time I eat here, I see caring teamwork to a professional degree.,1,,,\\nThe RI style calamari was a joke.,0,,,,\\nHowever, there was so much garlic in the fondue, it was barely edible.,0,,\\nI could barely stomach the meal, but didn\\'t complain because it was a business lunch.,0,,,\\nIt was so bad, I had lost the heart to finish it.,0,,,\\nIt also took her forever to bring us the check when we asked for it.,0,,,,\\nWe aren\\'t ones to make a scene at restaurants but I just don\\'t get it...definitely lost the love after this one!,0,,,,\\nDisappointing experience.,0,,,,\\nThe food is about on par with Denny\\'s, which is to say, not good at all.,0,,\\nIf you want to wait for mediocre food and downright terrible service, then this is the place for you.,0,,,\\nWAAAAAAyyyyyyyyyy over rated is all I am saying.,0,,,,\\nWe won\\'t be going back.,0,,,,\\nThe place was fairly clean but the food simply wasn\\'t worth it.,0,,,,\\nThis place lacked style!!,0,,,,\\nThe sangria was about half of a glass wine full and was $12, ridiculous.,0,,,\\nDon\\'t bother coming here.,0,,,,\\nThe meat was pretty dry, I had the sliced brisket and pulled pork.,0,,,\\nThe building itself seems pretty neat, the bathroom is pretty trippy, but I wouldn\\'t eat here again.,0,,\\nIt was equally awful.,0,,,,\\nProbably not in a hurry to go back.,0,,,,\\nvery slow at seating even with reservation.,0,,,,\\nNot good by any stretch of the imagination.,0,,,,\\nThe cashew cream sauce was bland and the vegetables were undercooked.,0,,,,\\nThe chipolte ranch dipping sause was tasteless, seemed thin and watered down with no heat.,0,,,\\nIt was a bit too sweet, not really spicy enough, and lacked flavor.,0,,\\nI was VERY disappointed!!,0,,,,\\nThis place is horrible and way overpriced.,0,,,,\\nMaybe it\\'s just their Vegetarian fare, but I\\'ve been twice and I thought it was average at best.,0,,,\\nIt wasn\\'t busy at all and now we know why.,0,,,,\\nThe tables outside are also dirty a lot of the time and the workers are not always friendly and helpful with the menu.,0,,,,\\nThe ambiance here did not feel like a buffet setting, but more of a douchey indoor garden for tea and biscuits.,0,,,\\nCon: spotty service.,0,,,,\\nThe fries were not hot, and neither was my burger.,0,,,\\nBut then they came back cold.,0,,,,\\nThen our food came out, disappointment ensued.,0,,,\\nThe real disappointment was our waiter.,0,,,,\\nMy husband said she was very rude... did not even apologize for the bad food or anything.,0,,,,\\nThe only reason to eat here would be to fill up before a night of binge drinking just to get some carbs in your stomach.,0,,,,\\nInsults, profound deuchebaggery, and had to go outside for a smoke break while serving just to solidify it.,0,,\\nIf someone orders two tacos don\\'t\\' you think it may be part of customer service to ask if it is combo or ala cart?,0,,,,\\nShe was quite disappointed although some blame needs to be placed at her door.,0,,,,\\nAfter all the rave reviews I couldn\\'t wait to eat here......what a disappointment!,0,,,,\\nDel Taco is pretty nasty and should be avoided if possible.,0,,,,\\nIt\\'s NOT hard to make a decent hamburger.,0,,,,\\nBut I don\\'t like it.,0,,,,\\nHell no will I go back,0,,,,\\nWe\\'ve have gotten a much better service from the pizza place next door than the services we received from this restaurant.,0,,,,\\nI don\\'t know what the big deal is about this place,\" but I won\\'t be back \"\"ya\\'all\"\".\",0,,,\\nI immediately said I wanted to talk to the manager but I did not want to talk to the guy who was doing shots of fireball behind the bar.,0,,,,\\nThe ambiance isn\\'t much better.,0,,,,\\nUnfortunately, it only set us up for disapppointment with our entrees.,0,,,\\nThe food wasn\\'t good.,0,,,,\\nYour servers suck, wait, correction, our server Heimer sucked.,0,\\nWhat happened next was pretty....off putting.,0,,,,\\ntoo bad cause I know it\\'s family owned, I really wanted to like this place.,0,,,\\nOverpriced for what you are getting.,0,,,,\\nI vomited in the bathroom mid lunch.,0,,,,\\nI kept looking at the time and it had soon become 35 minutes, yet still no food.,0,,,\\nI have been to very few places to eat that under no circumstances would I ever return to, and this tops the list.,0,,,\\nWe started with the tuna sashimi which was brownish in color and obviously wasn\\'t fresh.,0,,,,\\nFood was below average.,0,,,,\\nIt sure does beat the nachos at the movies but I would expect a little bit more coming from a restaurant.,0,,,,\\nAll in all, Ha Long Bay was a bit of a flop.,0,,,\\nThe problem I have is that they charge $11.99 for a sandwich that is no bigger than a Subway sub (which offers better and more amount of vegetables).,0,,,,\\nShrimp- When I unwrapped it (I live only 1/2 a mile from Brushfire) it was literally ice cold.,0,,,,\\nIt lacked flavor, seemed undercooked, and dry.,0,,\\nIt really is impressive that the place hasn\\'t closed down.,0,,,,\\nI would avoid this place if you are staying in the Mirage.,0,,,,\\nThe refried beans that came with my meal were dried out and crusty and the food was bland.,0,,,,\\nSpend your money and time some place else.,0,,,,\\nA lady at the table next to us found a live green caterpillar In her salad.,0,,,,\\nthe presentation of the food was awful.,0,,,,\\nI can\\'t tell you how disappointed I was.,0,,,,\\nI think food should have flavor and texture and both were lacking.,0,,,,\\nAppetite instantly gone.,0,,,,\\nOverall I was not impressed and would not go back.,0,,,,\\nThe whole experience was underwhelming, and I think we\\'ll just go to Ninja Sushi next time.,0,,,\\nThen, as if I hadn\\'t wasted enough of my life there, they poured salt in the wound by drawing out the time it took to bring the check.,0,,\\n'}"
            ]
          },
          "metadata": {},
          "execution_count": 2
        }
      ]
    },
    {
      "cell_type": "code",
      "execution_count": null,
      "metadata": {
        "id": "SLLLAypg2m2S"
      },
      "outputs": [],
      "source": [
        "import pandas as pd\n",
        "df = pd.read_csv('yelp_labelled.txt', names=['sentence', 'label'], sep='\\t')"
      ]
    },
    {
      "cell_type": "code",
      "source": [
        "df.tail()"
      ],
      "metadata": {
        "colab": {
          "base_uri": "https://localhost:8080/",
          "height": 206
        },
        "id": "_EHpHtdG4F9T",
        "outputId": "1c3e5087-6a08-4338-fcb7-6ea3f67119ad"
      },
      "execution_count": null,
      "outputs": [
        {
          "output_type": "execute_result",
          "data": {
            "text/plain": [
              "                                              sentence  label\n",
              "995  I think food should have flavor and texture an...      0\n",
              "996                           Appetite instantly gone.      0\n",
              "997  Overall I was not impressed and would not go b...      0\n",
              "998  The whole experience was underwhelming, and I ...      0\n",
              "999  Then, as if I hadn't wasted enough of my life ...      0"
            ],
            "text/html": [
              "\n",
              "  <div id=\"df-1650b137-959d-4a52-9440-c73db68c6161\">\n",
              "    <div class=\"colab-df-container\">\n",
              "      <div>\n",
              "<style scoped>\n",
              "    .dataframe tbody tr th:only-of-type {\n",
              "        vertical-align: middle;\n",
              "    }\n",
              "\n",
              "    .dataframe tbody tr th {\n",
              "        vertical-align: top;\n",
              "    }\n",
              "\n",
              "    .dataframe thead th {\n",
              "        text-align: right;\n",
              "    }\n",
              "</style>\n",
              "<table border=\"1\" class=\"dataframe\">\n",
              "  <thead>\n",
              "    <tr style=\"text-align: right;\">\n",
              "      <th></th>\n",
              "      <th>sentence</th>\n",
              "      <th>label</th>\n",
              "    </tr>\n",
              "  </thead>\n",
              "  <tbody>\n",
              "    <tr>\n",
              "      <th>995</th>\n",
              "      <td>I think food should have flavor and texture an...</td>\n",
              "      <td>0</td>\n",
              "    </tr>\n",
              "    <tr>\n",
              "      <th>996</th>\n",
              "      <td>Appetite instantly gone.</td>\n",
              "      <td>0</td>\n",
              "    </tr>\n",
              "    <tr>\n",
              "      <th>997</th>\n",
              "      <td>Overall I was not impressed and would not go b...</td>\n",
              "      <td>0</td>\n",
              "    </tr>\n",
              "    <tr>\n",
              "      <th>998</th>\n",
              "      <td>The whole experience was underwhelming, and I ...</td>\n",
              "      <td>0</td>\n",
              "    </tr>\n",
              "    <tr>\n",
              "      <th>999</th>\n",
              "      <td>Then, as if I hadn't wasted enough of my life ...</td>\n",
              "      <td>0</td>\n",
              "    </tr>\n",
              "  </tbody>\n",
              "</table>\n",
              "</div>\n",
              "      <button class=\"colab-df-convert\" onclick=\"convertToInteractive('df-1650b137-959d-4a52-9440-c73db68c6161')\"\n",
              "              title=\"Convert this dataframe to an interactive table.\"\n",
              "              style=\"display:none;\">\n",
              "        \n",
              "  <svg xmlns=\"http://www.w3.org/2000/svg\" height=\"24px\"viewBox=\"0 0 24 24\"\n",
              "       width=\"24px\">\n",
              "    <path d=\"M0 0h24v24H0V0z\" fill=\"none\"/>\n",
              "    <path d=\"M18.56 5.44l.94 2.06.94-2.06 2.06-.94-2.06-.94-.94-2.06-.94 2.06-2.06.94zm-11 1L8.5 8.5l.94-2.06 2.06-.94-2.06-.94L8.5 2.5l-.94 2.06-2.06.94zm10 10l.94 2.06.94-2.06 2.06-.94-2.06-.94-.94-2.06-.94 2.06-2.06.94z\"/><path d=\"M17.41 7.96l-1.37-1.37c-.4-.4-.92-.59-1.43-.59-.52 0-1.04.2-1.43.59L10.3 9.45l-7.72 7.72c-.78.78-.78 2.05 0 2.83L4 21.41c.39.39.9.59 1.41.59.51 0 1.02-.2 1.41-.59l7.78-7.78 2.81-2.81c.8-.78.8-2.07 0-2.86zM5.41 20L4 18.59l7.72-7.72 1.47 1.35L5.41 20z\"/>\n",
              "  </svg>\n",
              "      </button>\n",
              "      \n",
              "  <style>\n",
              "    .colab-df-container {\n",
              "      display:flex;\n",
              "      flex-wrap:wrap;\n",
              "      gap: 12px;\n",
              "    }\n",
              "\n",
              "    .colab-df-convert {\n",
              "      background-color: #E8F0FE;\n",
              "      border: none;\n",
              "      border-radius: 50%;\n",
              "      cursor: pointer;\n",
              "      display: none;\n",
              "      fill: #1967D2;\n",
              "      height: 32px;\n",
              "      padding: 0 0 0 0;\n",
              "      width: 32px;\n",
              "    }\n",
              "\n",
              "    .colab-df-convert:hover {\n",
              "      background-color: #E2EBFA;\n",
              "      box-shadow: 0px 1px 2px rgba(60, 64, 67, 0.3), 0px 1px 3px 1px rgba(60, 64, 67, 0.15);\n",
              "      fill: #174EA6;\n",
              "    }\n",
              "\n",
              "    [theme=dark] .colab-df-convert {\n",
              "      background-color: #3B4455;\n",
              "      fill: #D2E3FC;\n",
              "    }\n",
              "\n",
              "    [theme=dark] .colab-df-convert:hover {\n",
              "      background-color: #434B5C;\n",
              "      box-shadow: 0px 1px 3px 1px rgba(0, 0, 0, 0.15);\n",
              "      filter: drop-shadow(0px 1px 2px rgba(0, 0, 0, 0.3));\n",
              "      fill: #FFFFFF;\n",
              "    }\n",
              "  </style>\n",
              "\n",
              "      <script>\n",
              "        const buttonEl =\n",
              "          document.querySelector('#df-1650b137-959d-4a52-9440-c73db68c6161 button.colab-df-convert');\n",
              "        buttonEl.style.display =\n",
              "          google.colab.kernel.accessAllowed ? 'block' : 'none';\n",
              "\n",
              "        async function convertToInteractive(key) {\n",
              "          const element = document.querySelector('#df-1650b137-959d-4a52-9440-c73db68c6161');\n",
              "          const dataTable =\n",
              "            await google.colab.kernel.invokeFunction('convertToInteractive',\n",
              "                                                     [key], {});\n",
              "          if (!dataTable) return;\n",
              "\n",
              "          const docLinkHtml = 'Like what you see? Visit the ' +\n",
              "            '<a target=\"_blank\" href=https://colab.research.google.com/notebooks/data_table.ipynb>data table notebook</a>'\n",
              "            + ' to learn more about interactive tables.';\n",
              "          element.innerHTML = '';\n",
              "          dataTable['output_type'] = 'display_data';\n",
              "          await google.colab.output.renderOutput(dataTable, element);\n",
              "          const docLink = document.createElement('div');\n",
              "          docLink.innerHTML = docLinkHtml;\n",
              "          element.appendChild(docLink);\n",
              "        }\n",
              "      </script>\n",
              "    </div>\n",
              "  </div>\n",
              "  "
            ]
          },
          "metadata": {},
          "execution_count": 5
        }
      ]
    },
    {
      "cell_type": "markdown",
      "source": [
        "bagi dataset menjadi train dan test set"
      ],
      "metadata": {
        "id": "a9QB-6C74UPD"
      }
    },
    {
      "cell_type": "code",
      "source": [
        "from sklearn.model_selection import train_test_split\n",
        "kalimat = df['sentence'].values\n",
        "y = df['label'].values\n",
        "kalimat_latih, kalimat_test, y_latih, y_test = train_test_split(kalimat, y, test_size=0.2)"
      ],
      "metadata": {
        "id": "ZKdxjtqd4Rlb"
      },
      "execution_count": null,
      "outputs": []
    },
    {
      "cell_type": "markdown",
      "source": [
        "Agar teks dapat dipahami oleh model, kita harus lakukan tokenisasi. Gunakan fungsi tokenizer pada data latih dan data test. Jangan lupa gunakan fungsi pad_sequences agar setiap sequence sama panjang."
      ],
      "metadata": {
        "id": "0Y57-Z3r4bH0"
      }
    },
    {
      "cell_type": "code",
      "source": [
        "from tensorflow.keras.preprocessing.text import Tokenizer\n",
        "from tensorflow.keras.preprocessing.sequence import pad_sequences\n",
        " \n",
        "tokenizer = Tokenizer(num_words=250, oov_token='x')\n",
        "tokenizer.fit_on_texts(kalimat_latih) \n",
        "tokenizer.fit_on_texts(kalimat_test)\n",
        " \n",
        "sekuens_latih = tokenizer.texts_to_sequences(kalimat_latih)\n",
        "sekuens_test = tokenizer.texts_to_sequences(kalimat_test)\n",
        " \n",
        "padded_latih = pad_sequences(sekuens_latih, maxlen=20) \n",
        "padded_test = pad_sequences(sekuens_test, maxlen=20)"
      ],
      "metadata": {
        "id": "8CtZK_sS4XGF"
      },
      "execution_count": null,
      "outputs": []
    },
    {
      "cell_type": "markdown",
      "source": [
        "menggunakan GlobalAveragePooling1D. Fungsi ini bekerja lebih baik pada kasus NLP dibanding Flatten.sebagai arsitektur yang akan digunakan adalah layer embedding"
      ],
      "metadata": {
        "id": "NmWB2A4A5PPG"
      }
    },
    {
      "cell_type": "code",
      "source": [
        "import tensorflow as tf\n",
        "model = tf.keras.Sequential([\n",
        "    tf.keras.layers.Embedding(250, 16, input_length=20),\n",
        "    tf.keras.layers.GlobalAveragePooling1D(),\n",
        "    tf.keras.layers.Dense(24, activation='relu'),\n",
        "    tf.keras.layers.Dense(1, activation='sigmoid')\n",
        "])\n",
        "model.compile(loss='binary_crossentropy',optimizer='adam',metrics=['accuracy'])"
      ],
      "metadata": {
        "id": "Cr6vmzEU4i5s"
      },
      "execution_count": null,
      "outputs": []
    },
    {
      "cell_type": "markdown",
      "source": [
        "melatih model"
      ],
      "metadata": {
        "id": "K2pzwL5J5i-E"
      }
    },
    {
      "cell_type": "code",
      "source": [
        "num_epochs = 30\n",
        "history = model.fit(padded_latih, y_latih, epochs=num_epochs, \n",
        "                    validation_data=(padded_test, y_test), verbose=2)"
      ],
      "metadata": {
        "colab": {
          "base_uri": "https://localhost:8080/"
        },
        "id": "NVu2IXgZ5fXY",
        "outputId": "c24f2292-0370-4f49-9baa-5e3ba7e01780"
      },
      "execution_count": null,
      "outputs": [
        {
          "output_type": "stream",
          "name": "stdout",
          "text": [
            "Epoch 1/30\n",
            "25/25 - 2s - loss: 0.6928 - accuracy: 0.5300 - val_loss: 0.6908 - val_accuracy: 0.6050 - 2s/epoch - 88ms/step\n",
            "Epoch 2/30\n",
            "25/25 - 0s - loss: 0.6899 - accuracy: 0.6463 - val_loss: 0.6881 - val_accuracy: 0.6850 - 98ms/epoch - 4ms/step\n",
            "Epoch 3/30\n",
            "25/25 - 0s - loss: 0.6861 - accuracy: 0.6800 - val_loss: 0.6829 - val_accuracy: 0.6650 - 97ms/epoch - 4ms/step\n",
            "Epoch 4/30\n",
            "25/25 - 0s - loss: 0.6790 - accuracy: 0.6787 - val_loss: 0.6753 - val_accuracy: 0.6900 - 101ms/epoch - 4ms/step\n",
            "Epoch 5/30\n",
            "25/25 - 0s - loss: 0.6678 - accuracy: 0.6988 - val_loss: 0.6634 - val_accuracy: 0.7050 - 102ms/epoch - 4ms/step\n",
            "Epoch 6/30\n",
            "25/25 - 0s - loss: 0.6522 - accuracy: 0.7412 - val_loss: 0.6499 - val_accuracy: 0.7600 - 91ms/epoch - 4ms/step\n",
            "Epoch 7/30\n",
            "25/25 - 0s - loss: 0.6283 - accuracy: 0.7700 - val_loss: 0.6290 - val_accuracy: 0.7300 - 98ms/epoch - 4ms/step\n",
            "Epoch 8/30\n",
            "25/25 - 0s - loss: 0.6007 - accuracy: 0.7788 - val_loss: 0.6071 - val_accuracy: 0.7600 - 90ms/epoch - 4ms/step\n",
            "Epoch 9/30\n",
            "25/25 - 0s - loss: 0.5684 - accuracy: 0.8000 - val_loss: 0.5833 - val_accuracy: 0.7700 - 118ms/epoch - 5ms/step\n",
            "Epoch 10/30\n",
            "25/25 - 0s - loss: 0.5335 - accuracy: 0.8087 - val_loss: 0.5612 - val_accuracy: 0.7800 - 100ms/epoch - 4ms/step\n",
            "Epoch 11/30\n",
            "25/25 - 0s - loss: 0.4992 - accuracy: 0.8200 - val_loss: 0.5448 - val_accuracy: 0.7900 - 99ms/epoch - 4ms/step\n",
            "Epoch 12/30\n",
            "25/25 - 0s - loss: 0.4661 - accuracy: 0.8350 - val_loss: 0.5274 - val_accuracy: 0.7950 - 99ms/epoch - 4ms/step\n",
            "Epoch 13/30\n",
            "25/25 - 0s - loss: 0.4377 - accuracy: 0.8425 - val_loss: 0.5182 - val_accuracy: 0.7900 - 108ms/epoch - 4ms/step\n",
            "Epoch 14/30\n",
            "25/25 - 0s - loss: 0.4107 - accuracy: 0.8537 - val_loss: 0.5048 - val_accuracy: 0.7800 - 101ms/epoch - 4ms/step\n",
            "Epoch 15/30\n",
            "25/25 - 0s - loss: 0.3899 - accuracy: 0.8550 - val_loss: 0.5140 - val_accuracy: 0.7800 - 92ms/epoch - 4ms/step\n",
            "Epoch 16/30\n",
            "25/25 - 0s - loss: 0.3725 - accuracy: 0.8550 - val_loss: 0.5005 - val_accuracy: 0.7850 - 92ms/epoch - 4ms/step\n",
            "Epoch 17/30\n",
            "25/25 - 0s - loss: 0.3520 - accuracy: 0.8637 - val_loss: 0.4961 - val_accuracy: 0.7800 - 104ms/epoch - 4ms/step\n",
            "Epoch 18/30\n",
            "25/25 - 0s - loss: 0.3383 - accuracy: 0.8662 - val_loss: 0.5023 - val_accuracy: 0.7800 - 101ms/epoch - 4ms/step\n",
            "Epoch 19/30\n",
            "25/25 - 0s - loss: 0.3268 - accuracy: 0.8775 - val_loss: 0.5065 - val_accuracy: 0.7800 - 95ms/epoch - 4ms/step\n",
            "Epoch 20/30\n",
            "25/25 - 0s - loss: 0.3167 - accuracy: 0.8675 - val_loss: 0.5042 - val_accuracy: 0.7750 - 101ms/epoch - 4ms/step\n",
            "Epoch 21/30\n",
            "25/25 - 0s - loss: 0.3044 - accuracy: 0.8838 - val_loss: 0.5037 - val_accuracy: 0.7900 - 91ms/epoch - 4ms/step\n",
            "Epoch 22/30\n",
            "25/25 - 0s - loss: 0.2962 - accuracy: 0.8800 - val_loss: 0.5107 - val_accuracy: 0.7850 - 90ms/epoch - 4ms/step\n",
            "Epoch 23/30\n",
            "25/25 - 0s - loss: 0.2892 - accuracy: 0.8875 - val_loss: 0.5171 - val_accuracy: 0.7850 - 112ms/epoch - 4ms/step\n",
            "Epoch 24/30\n",
            "25/25 - 0s - loss: 0.2849 - accuracy: 0.8863 - val_loss: 0.5228 - val_accuracy: 0.7900 - 88ms/epoch - 4ms/step\n",
            "Epoch 25/30\n",
            "25/25 - 0s - loss: 0.2794 - accuracy: 0.8963 - val_loss: 0.5245 - val_accuracy: 0.7900 - 93ms/epoch - 4ms/step\n",
            "Epoch 26/30\n",
            "25/25 - 0s - loss: 0.2724 - accuracy: 0.8963 - val_loss: 0.5318 - val_accuracy: 0.7950 - 94ms/epoch - 4ms/step\n",
            "Epoch 27/30\n",
            "25/25 - 0s - loss: 0.2667 - accuracy: 0.8925 - val_loss: 0.5372 - val_accuracy: 0.7900 - 88ms/epoch - 4ms/step\n",
            "Epoch 28/30\n",
            "25/25 - 0s - loss: 0.2636 - accuracy: 0.8963 - val_loss: 0.5375 - val_accuracy: 0.7750 - 154ms/epoch - 6ms/step\n",
            "Epoch 29/30\n",
            "25/25 - 0s - loss: 0.2586 - accuracy: 0.8988 - val_loss: 0.5525 - val_accuracy: 0.7850 - 99ms/epoch - 4ms/step\n",
            "Epoch 30/30\n",
            "25/25 - 0s - loss: 0.2583 - accuracy: 0.9013 - val_loss: 0.5500 - val_accuracy: 0.7850 - 94ms/epoch - 4ms/step\n"
          ]
        }
      ]
    },
    {
      "cell_type": "code",
      "source": [],
      "metadata": {
        "id": "uHYXK38v5ikT"
      },
      "execution_count": null,
      "outputs": []
    }
  ]
}